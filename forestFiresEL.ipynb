{
  "nbformat": 4,
  "nbformat_minor": 0,
  "metadata": {
    "colab": {
      "provenance": [],
      "authorship_tag": "ABX9TyOFLmPyR2EG8krEofSXgAoD",
      "include_colab_link": true
    },
    "kernelspec": {
      "name": "python3",
      "display_name": "Python 3"
    },
    "language_info": {
      "name": "python"
    }
  },
  "cells": [
    {
      "cell_type": "markdown",
      "metadata": {
        "id": "view-in-github",
        "colab_type": "text"
      },
      "source": [
        "<a href=\"https://colab.research.google.com/github/EwanLorimer/AlevelNEA/blob/main/forestFiresEL.ipynb\" target=\"_parent\"><img src=\"https://colab.research.google.com/assets/colab-badge.svg\" alt=\"Open In Colab\"/></a>"
      ]
    },
    {
      "cell_type": "markdown",
      "source": [
        "**CS165, Coursework 1, Forest Fires | Ewan Lorimer - 2214790**\n",
        "\n",
        "**Introduction**\n",
        "\n",
        "\n",
        "\n",
        "\n",
        "**Information on forest fires in Algeria**\n",
        "\n",
        "\n",
        "**Objectives**\n",
        "\n",
        "The objective of this notebook is to create a model that will predict if a region of Algeria has a forest fire or not. \n",
        "\n",
        "\n",
        "**Proposed Solution**"
      ],
      "metadata": {
        "id": "dwi0uJVJoFEN"
      }
    },
    {
      "cell_type": "markdown",
      "source": [
        "**Import Libraries**"
      ],
      "metadata": {
        "id": "FMqhuswEdc62"
      }
    },
    {
      "cell_type": "code",
      "source": [
        "import numpy as np\n",
        "import pandas as pd\n",
        "import matplotlib.pyplot as plt\n",
        "import seaborn as sns\n",
        "import sklearn"
      ],
      "metadata": {
        "id": "t-cYh5LadbX3"
      },
      "execution_count": null,
      "outputs": []
    },
    {
      "cell_type": "markdown",
      "source": [
        "**Load Dataframe**"
      ],
      "metadata": {
        "id": "fBeMqfw1j7k9"
      }
    },
    {
      "cell_type": "code",
      "source": [
        "dataFrame = pd.read_csv('ForestFire.csv')\n",
        "print(dataFrame.head())"
      ],
      "metadata": {
        "id": "DmNKxcG-j6yy",
        "colab": {
          "base_uri": "https://localhost:8080/"
        },
        "outputId": "a76b800f-10f5-4f4a-cc67-f74f2c369aff"
      },
      "execution_count": 4,
      "outputs": [
        {
          "output_type": "stream",
          "name": "stdout",
          "text": [
            "   1  6  29  57  18   0.0  65.7  3.4   7.6  1.3  3.4.1  0.5  notfire\n",
            "0  2  6  29  61  13   1.3  64.4  4.1   7.6  1.0    3.9  0.4  notfire\n",
            "1  3  6  26  82  22  13.1  47.1  2.5   7.1  0.3    2.7  0.1  notfire\n",
            "2  4  6  25  89  13   2.5  28.6  1.3   6.9  0.0    1.7  0.0  notfire\n",
            "3  5  6  27  77  16   0.0  64.8  3.0  14.2  1.2    3.9  0.5  notfire\n",
            "4  6  6  31  67  14   0.0  82.6  5.8  22.2  3.1    7.0  2.5     fire\n"
          ]
        }
      ]
    }
  ]
}